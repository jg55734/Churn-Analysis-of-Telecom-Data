{
 "cells": [
  {
   "cell_type": "markdown",
   "metadata": {
    "colab_type": "text",
    "id": "9Ov-9i57ot9Z"
   },
   "source": [
    "# Churn Data Analysis In Telecommunications\n",
    "\n",
    "Source: https://www.kaggle.com/becksddf/churn-in-telecoms-dataset \n",
    "\n",
    "\n",
    "Initially, we install all the required libraries."
   ]
  },
  {
   "cell_type": "code",
   "execution_count": 4,
   "metadata": {
    "colab": {
     "base_uri": "https://localhost:8080/",
     "height": 289
    },
    "colab_type": "code",
    "id": "0K8523M-ot9b",
    "outputId": "b90a68f6-93fa-489a-9e60-518c38682422",
    "scrolled": true
   },
   "outputs": [
    {
     "name": "stdout",
     "output_type": "stream",
     "text": [
      "Requirement already satisfied: missingno in c:\\users\\laxmi\\appdata\\local\\continuum\\anaconda3\\lib\\site-packages (0.4.2)\n",
      "Requirement already satisfied: scipy in c:\\users\\laxmi\\appdata\\local\\continuum\\anaconda3\\lib\\site-packages (from missingno) (1.1.0)\n",
      "Requirement already satisfied: numpy in c:\\users\\laxmi\\appdata\\local\\continuum\\anaconda3\\lib\\site-packages (from missingno) (1.15.4)\n",
      "Requirement already satisfied: matplotlib in c:\\users\\laxmi\\appdata\\local\\continuum\\anaconda3\\lib\\site-packages (from missingno) (3.0.2)\n",
      "Requirement already satisfied: seaborn in c:\\users\\laxmi\\appdata\\local\\continuum\\anaconda3\\lib\\site-packages (from missingno) (0.9.0)\n",
      "Requirement already satisfied: cycler>=0.10 in c:\\users\\laxmi\\appdata\\local\\continuum\\anaconda3\\lib\\site-packages (from matplotlib->missingno) (0.10.0)\n",
      "Requirement already satisfied: kiwisolver>=1.0.1 in c:\\users\\laxmi\\appdata\\local\\continuum\\anaconda3\\lib\\site-packages (from matplotlib->missingno) (1.0.1)\n",
      "Requirement already satisfied: pyparsing!=2.0.4,!=2.1.2,!=2.1.6,>=2.0.1 in c:\\users\\laxmi\\appdata\\local\\continuum\\anaconda3\\lib\\site-packages (from matplotlib->missingno) (2.3.0)\n",
      "Requirement already satisfied: python-dateutil>=2.1 in c:\\users\\laxmi\\appdata\\local\\continuum\\anaconda3\\lib\\site-packages (from matplotlib->missingno) (2.7.5)\n",
      "Requirement already satisfied: pandas>=0.15.2 in c:\\users\\laxmi\\appdata\\local\\continuum\\anaconda3\\lib\\site-packages (from seaborn->missingno) (0.23.4)\n",
      "Requirement already satisfied: six in c:\\users\\laxmi\\appdata\\local\\continuum\\anaconda3\\lib\\site-packages (from cycler>=0.10->matplotlib->missingno) (1.12.0)\n",
      "Requirement already satisfied: setuptools in c:\\users\\laxmi\\appdata\\local\\continuum\\anaconda3\\lib\\site-packages (from kiwisolver>=1.0.1->matplotlib->missingno) (40.6.3)\n",
      "Requirement already satisfied: pytz>=2011k in c:\\users\\laxmi\\appdata\\local\\continuum\\anaconda3\\lib\\site-packages (from pandas>=0.15.2->seaborn->missingno) (2018.7)\n"
     ]
    }
   ],
   "source": [
    "!pip install missingno\n",
    "from scipy import stats\n",
    "import pandas as pd\n",
    "import numpy as np\n",
    "import seaborn as sns\n",
    "from matplotlib import pyplot as plt\n",
    "from matplotlib.pyplot import pie, axis, show\n"
   ]
  },
  {
   "cell_type": "markdown",
   "metadata": {
    "colab_type": "text",
    "id": "sQ4P_4NLot9g"
   },
   "source": [
    "Then, we load the csv file into a dataframe 'df'."
   ]
  },
  {
   "cell_type": "code",
   "execution_count": 5,
   "metadata": {
    "colab": {},
    "colab_type": "code",
    "id": "krxJd8hmot9h"
   },
   "outputs": [
    {
     "ename": "FileNotFoundError",
     "evalue": "File b'churndata.csv' does not exist",
     "output_type": "error",
     "traceback": [
      "\u001b[1;31m---------------------------------------------------------------------------\u001b[0m",
      "\u001b[1;31mFileNotFoundError\u001b[0m                         Traceback (most recent call last)",
      "\u001b[1;32m<ipython-input-5-d1a626dfa023>\u001b[0m in \u001b[0;36m<module>\u001b[1;34m\u001b[0m\n\u001b[1;32m----> 1\u001b[1;33m \u001b[0mdf\u001b[0m \u001b[1;33m=\u001b[0m \u001b[0mpd\u001b[0m\u001b[1;33m.\u001b[0m\u001b[0mread_csv\u001b[0m\u001b[1;33m(\u001b[0m\u001b[1;34m\"churndata.csv\"\u001b[0m\u001b[1;33m)\u001b[0m\u001b[1;33m\u001b[0m\u001b[1;33m\u001b[0m\u001b[0m\n\u001b[0m",
      "\u001b[1;32m~\\AppData\\Local\\Continuum\\anaconda3\\lib\\site-packages\\pandas\\io\\parsers.py\u001b[0m in \u001b[0;36mparser_f\u001b[1;34m(filepath_or_buffer, sep, delimiter, header, names, index_col, usecols, squeeze, prefix, mangle_dupe_cols, dtype, engine, converters, true_values, false_values, skipinitialspace, skiprows, nrows, na_values, keep_default_na, na_filter, verbose, skip_blank_lines, parse_dates, infer_datetime_format, keep_date_col, date_parser, dayfirst, iterator, chunksize, compression, thousands, decimal, lineterminator, quotechar, quoting, escapechar, comment, encoding, dialect, tupleize_cols, error_bad_lines, warn_bad_lines, skipfooter, doublequote, delim_whitespace, low_memory, memory_map, float_precision)\u001b[0m\n\u001b[0;32m    676\u001b[0m                     skip_blank_lines=skip_blank_lines)\n\u001b[0;32m    677\u001b[0m \u001b[1;33m\u001b[0m\u001b[0m\n\u001b[1;32m--> 678\u001b[1;33m         \u001b[1;32mreturn\u001b[0m \u001b[0m_read\u001b[0m\u001b[1;33m(\u001b[0m\u001b[0mfilepath_or_buffer\u001b[0m\u001b[1;33m,\u001b[0m \u001b[0mkwds\u001b[0m\u001b[1;33m)\u001b[0m\u001b[1;33m\u001b[0m\u001b[1;33m\u001b[0m\u001b[0m\n\u001b[0m\u001b[0;32m    679\u001b[0m \u001b[1;33m\u001b[0m\u001b[0m\n\u001b[0;32m    680\u001b[0m     \u001b[0mparser_f\u001b[0m\u001b[1;33m.\u001b[0m\u001b[0m__name__\u001b[0m \u001b[1;33m=\u001b[0m \u001b[0mname\u001b[0m\u001b[1;33m\u001b[0m\u001b[1;33m\u001b[0m\u001b[0m\n",
      "\u001b[1;32m~\\AppData\\Local\\Continuum\\anaconda3\\lib\\site-packages\\pandas\\io\\parsers.py\u001b[0m in \u001b[0;36m_read\u001b[1;34m(filepath_or_buffer, kwds)\u001b[0m\n\u001b[0;32m    438\u001b[0m \u001b[1;33m\u001b[0m\u001b[0m\n\u001b[0;32m    439\u001b[0m     \u001b[1;31m# Create the parser.\u001b[0m\u001b[1;33m\u001b[0m\u001b[1;33m\u001b[0m\u001b[1;33m\u001b[0m\u001b[0m\n\u001b[1;32m--> 440\u001b[1;33m     \u001b[0mparser\u001b[0m \u001b[1;33m=\u001b[0m \u001b[0mTextFileReader\u001b[0m\u001b[1;33m(\u001b[0m\u001b[0mfilepath_or_buffer\u001b[0m\u001b[1;33m,\u001b[0m \u001b[1;33m**\u001b[0m\u001b[0mkwds\u001b[0m\u001b[1;33m)\u001b[0m\u001b[1;33m\u001b[0m\u001b[1;33m\u001b[0m\u001b[0m\n\u001b[0m\u001b[0;32m    441\u001b[0m \u001b[1;33m\u001b[0m\u001b[0m\n\u001b[0;32m    442\u001b[0m     \u001b[1;32mif\u001b[0m \u001b[0mchunksize\u001b[0m \u001b[1;32mor\u001b[0m \u001b[0miterator\u001b[0m\u001b[1;33m:\u001b[0m\u001b[1;33m\u001b[0m\u001b[1;33m\u001b[0m\u001b[0m\n",
      "\u001b[1;32m~\\AppData\\Local\\Continuum\\anaconda3\\lib\\site-packages\\pandas\\io\\parsers.py\u001b[0m in \u001b[0;36m__init__\u001b[1;34m(self, f, engine, **kwds)\u001b[0m\n\u001b[0;32m    785\u001b[0m             \u001b[0mself\u001b[0m\u001b[1;33m.\u001b[0m\u001b[0moptions\u001b[0m\u001b[1;33m[\u001b[0m\u001b[1;34m'has_index_names'\u001b[0m\u001b[1;33m]\u001b[0m \u001b[1;33m=\u001b[0m \u001b[0mkwds\u001b[0m\u001b[1;33m[\u001b[0m\u001b[1;34m'has_index_names'\u001b[0m\u001b[1;33m]\u001b[0m\u001b[1;33m\u001b[0m\u001b[1;33m\u001b[0m\u001b[0m\n\u001b[0;32m    786\u001b[0m \u001b[1;33m\u001b[0m\u001b[0m\n\u001b[1;32m--> 787\u001b[1;33m         \u001b[0mself\u001b[0m\u001b[1;33m.\u001b[0m\u001b[0m_make_engine\u001b[0m\u001b[1;33m(\u001b[0m\u001b[0mself\u001b[0m\u001b[1;33m.\u001b[0m\u001b[0mengine\u001b[0m\u001b[1;33m)\u001b[0m\u001b[1;33m\u001b[0m\u001b[1;33m\u001b[0m\u001b[0m\n\u001b[0m\u001b[0;32m    788\u001b[0m \u001b[1;33m\u001b[0m\u001b[0m\n\u001b[0;32m    789\u001b[0m     \u001b[1;32mdef\u001b[0m \u001b[0mclose\u001b[0m\u001b[1;33m(\u001b[0m\u001b[0mself\u001b[0m\u001b[1;33m)\u001b[0m\u001b[1;33m:\u001b[0m\u001b[1;33m\u001b[0m\u001b[1;33m\u001b[0m\u001b[0m\n",
      "\u001b[1;32m~\\AppData\\Local\\Continuum\\anaconda3\\lib\\site-packages\\pandas\\io\\parsers.py\u001b[0m in \u001b[0;36m_make_engine\u001b[1;34m(self, engine)\u001b[0m\n\u001b[0;32m   1012\u001b[0m     \u001b[1;32mdef\u001b[0m \u001b[0m_make_engine\u001b[0m\u001b[1;33m(\u001b[0m\u001b[0mself\u001b[0m\u001b[1;33m,\u001b[0m \u001b[0mengine\u001b[0m\u001b[1;33m=\u001b[0m\u001b[1;34m'c'\u001b[0m\u001b[1;33m)\u001b[0m\u001b[1;33m:\u001b[0m\u001b[1;33m\u001b[0m\u001b[1;33m\u001b[0m\u001b[0m\n\u001b[0;32m   1013\u001b[0m         \u001b[1;32mif\u001b[0m \u001b[0mengine\u001b[0m \u001b[1;33m==\u001b[0m \u001b[1;34m'c'\u001b[0m\u001b[1;33m:\u001b[0m\u001b[1;33m\u001b[0m\u001b[1;33m\u001b[0m\u001b[0m\n\u001b[1;32m-> 1014\u001b[1;33m             \u001b[0mself\u001b[0m\u001b[1;33m.\u001b[0m\u001b[0m_engine\u001b[0m \u001b[1;33m=\u001b[0m \u001b[0mCParserWrapper\u001b[0m\u001b[1;33m(\u001b[0m\u001b[0mself\u001b[0m\u001b[1;33m.\u001b[0m\u001b[0mf\u001b[0m\u001b[1;33m,\u001b[0m \u001b[1;33m**\u001b[0m\u001b[0mself\u001b[0m\u001b[1;33m.\u001b[0m\u001b[0moptions\u001b[0m\u001b[1;33m)\u001b[0m\u001b[1;33m\u001b[0m\u001b[1;33m\u001b[0m\u001b[0m\n\u001b[0m\u001b[0;32m   1015\u001b[0m         \u001b[1;32melse\u001b[0m\u001b[1;33m:\u001b[0m\u001b[1;33m\u001b[0m\u001b[1;33m\u001b[0m\u001b[0m\n\u001b[0;32m   1016\u001b[0m             \u001b[1;32mif\u001b[0m \u001b[0mengine\u001b[0m \u001b[1;33m==\u001b[0m \u001b[1;34m'python'\u001b[0m\u001b[1;33m:\u001b[0m\u001b[1;33m\u001b[0m\u001b[1;33m\u001b[0m\u001b[0m\n",
      "\u001b[1;32m~\\AppData\\Local\\Continuum\\anaconda3\\lib\\site-packages\\pandas\\io\\parsers.py\u001b[0m in \u001b[0;36m__init__\u001b[1;34m(self, src, **kwds)\u001b[0m\n\u001b[0;32m   1706\u001b[0m         \u001b[0mkwds\u001b[0m\u001b[1;33m[\u001b[0m\u001b[1;34m'usecols'\u001b[0m\u001b[1;33m]\u001b[0m \u001b[1;33m=\u001b[0m \u001b[0mself\u001b[0m\u001b[1;33m.\u001b[0m\u001b[0musecols\u001b[0m\u001b[1;33m\u001b[0m\u001b[1;33m\u001b[0m\u001b[0m\n\u001b[0;32m   1707\u001b[0m \u001b[1;33m\u001b[0m\u001b[0m\n\u001b[1;32m-> 1708\u001b[1;33m         \u001b[0mself\u001b[0m\u001b[1;33m.\u001b[0m\u001b[0m_reader\u001b[0m \u001b[1;33m=\u001b[0m \u001b[0mparsers\u001b[0m\u001b[1;33m.\u001b[0m\u001b[0mTextReader\u001b[0m\u001b[1;33m(\u001b[0m\u001b[0msrc\u001b[0m\u001b[1;33m,\u001b[0m \u001b[1;33m**\u001b[0m\u001b[0mkwds\u001b[0m\u001b[1;33m)\u001b[0m\u001b[1;33m\u001b[0m\u001b[1;33m\u001b[0m\u001b[0m\n\u001b[0m\u001b[0;32m   1709\u001b[0m \u001b[1;33m\u001b[0m\u001b[0m\n\u001b[0;32m   1710\u001b[0m         \u001b[0mpassed_names\u001b[0m \u001b[1;33m=\u001b[0m \u001b[0mself\u001b[0m\u001b[1;33m.\u001b[0m\u001b[0mnames\u001b[0m \u001b[1;32mis\u001b[0m \u001b[1;32mNone\u001b[0m\u001b[1;33m\u001b[0m\u001b[1;33m\u001b[0m\u001b[0m\n",
      "\u001b[1;32mpandas\\_libs\\parsers.pyx\u001b[0m in \u001b[0;36mpandas._libs.parsers.TextReader.__cinit__\u001b[1;34m()\u001b[0m\n",
      "\u001b[1;32mpandas\\_libs\\parsers.pyx\u001b[0m in \u001b[0;36mpandas._libs.parsers.TextReader._setup_parser_source\u001b[1;34m()\u001b[0m\n",
      "\u001b[1;31mFileNotFoundError\u001b[0m: File b'churndata.csv' does not exist"
     ]
    }
   ],
   "source": [
    "df = pd.read_csv(\"churndata.csv\")"
   ]
  },
  {
   "cell_type": "markdown",
   "metadata": {
    "colab_type": "text",
    "id": "oKtLMI64ot9k"
   },
   "source": [
    "df.head is used to load the first ten rows of the dataframe."
   ]
  },
  {
   "cell_type": "code",
   "execution_count": null,
   "metadata": {
    "colab": {
     "base_uri": "https://localhost:8080/",
     "height": 545
    },
    "colab_type": "code",
    "id": "P3wGPsxEot9k",
    "outputId": "ca91b02f-9d34-42d5-aace-efa9d3eac1c7"
   },
   "outputs": [],
   "source": [
    "df.head(10)"
   ]
  },
  {
   "cell_type": "markdown",
   "metadata": {
    "colab_type": "text",
    "id": "TweOdFzAot9n"
   },
   "source": [
    "df.describe() is used to analyze the characeristics of the columns in the dataframe."
   ]
  },
  {
   "cell_type": "code",
   "execution_count": null,
   "metadata": {
    "colab": {
     "base_uri": "https://localhost:8080/",
     "height": 338
    },
    "colab_type": "code",
    "id": "T7Vb91Mwot9o",
    "outputId": "7719d014-6a3c-437e-ca9a-ecd78ae92658"
   },
   "outputs": [],
   "source": [
    "df.describe()"
   ]
  },
  {
   "cell_type": "markdown",
   "metadata": {
    "colab_type": "text",
    "id": "cK8BoKlUot9r"
   },
   "source": [
    "df.info() is used to observe the datatypes of the columns in the dataset. From this we can observe that there are 8 float columns, 8 int columns, 4 object columns and 1 bool type column."
   ]
  },
  {
   "cell_type": "code",
   "execution_count": null,
   "metadata": {
    "colab": {
     "base_uri": "https://localhost:8080/",
     "height": 487
    },
    "colab_type": "code",
    "id": "AEmrzpE1ot9s",
    "outputId": "da27ed96-0a1c-48cd-e02e-4fb600244785"
   },
   "outputs": [],
   "source": [
    "df.info()"
   ]
  },
  {
   "cell_type": "code",
   "execution_count": null,
   "metadata": {
    "colab": {
     "base_uri": "https://localhost:8080/",
     "height": 386
    },
    "colab_type": "code",
    "id": "zgozTvSjot9u",
    "outputId": "b9992071-6a09-4cac-8fb8-257d00ed6494"
   },
   "outputs": [],
   "source": [
    "df.dtypes"
   ]
  },
  {
   "cell_type": "markdown",
   "metadata": {
    "colab_type": "text",
    "id": "bBWbsDSJot9y"
   },
   "source": [
    "Here, the data type of the area code is initially int. But, we are changing the data type of area code column to object as area code should be unique.\n",
    "Then, we are converting churn column data type into int."
   ]
  },
  {
   "cell_type": "code",
   "execution_count": null,
   "metadata": {
    "colab": {},
    "colab_type": "code",
    "id": "Ig68nolEot9y"
   },
   "outputs": [],
   "source": [
    "df['area code'] = df['area code'].astype('object')\n",
    "df['churn']=df['churn'].astype('int')\n",
    "df['international plan'] = df['international plan'].astype('category')\n",
    "\n",
    "\n"
   ]
  },
  {
   "cell_type": "markdown",
   "metadata": {
    "colab_type": "text",
    "id": "S-3uV3FCot90"
   },
   "source": [
    "Here, we are checking for the unique values."
   ]
  },
  {
   "cell_type": "code",
   "execution_count": null,
   "metadata": {
    "colab": {
     "base_uri": "https://localhost:8080/",
     "height": 166
    },
    "colab_type": "code",
    "id": "Tepzq4eVot91",
    "outputId": "0d8756de-fc9e-4de8-b59d-cd5c4e3f6ce8"
   },
   "outputs": [],
   "source": [
    "df.describe(include=['O'])"
   ]
  },
  {
   "cell_type": "markdown",
   "metadata": {
    "colab_type": "text",
    "id": "o_1Hz5cmot94"
   },
   "source": [
    "Here, we are dropping the phone number column as the phone number for each user is unique and is not relevant for our analysis on the churn."
   ]
  },
  {
   "cell_type": "code",
   "execution_count": null,
   "metadata": {
    "colab": {
     "base_uri": "https://localhost:8080/",
     "height": 435
    },
    "colab_type": "code",
    "id": "xL-5TplHot95",
    "outputId": "0bab4588-3e0f-4bc7-a62a-eaf826cf906c"
   },
   "outputs": [],
   "source": [
    "df.drop([\"phone number\"], axis = 1,)"
   ]
  },
  {
   "cell_type": "markdown",
   "metadata": {
    "colab_type": "text",
    "id": "3f7GfSWyot98"
   },
   "source": [
    "# Data Cleaning\n",
    "\n",
    "By using df.isnull().sum(), we are checking for any null values in the dataframe. From this, we can observe that there are no null values present in the dataframe."
   ]
  },
  {
   "cell_type": "code",
   "execution_count": null,
   "metadata": {
    "colab": {
     "base_uri": "https://localhost:8080/",
     "height": 386
    },
    "colab_type": "code",
    "id": "dEdU3V1cot98",
    "outputId": "a4e17ccf-2428-4224-9435-e54e0872778d"
   },
   "outputs": [],
   "source": [
    "df.isnull().sum()"
   ]
  },
  {
   "cell_type": "markdown",
   "metadata": {
    "colab_type": "text",
    "id": "5sLzY9Xxot9-"
   },
   "source": [
    "The above analysis is shown in the form of a graph below."
   ]
  },
  {
   "cell_type": "code",
   "execution_count": null,
   "metadata": {
    "colab": {
     "base_uri": "https://localhost:8080/",
     "height": 725
    },
    "colab_type": "code",
    "id": "-erozO_fot9_",
    "outputId": "c4c2fcea-121a-4cae-eea5-1185065ee2d4"
   },
   "outputs": [],
   "source": [
    "import missingno as msno\n",
    "msno.matrix(df)"
   ]
  },
  {
   "cell_type": "markdown",
   "metadata": {
    "colab_type": "text",
    "id": "_uTqmzMfot-C"
   },
   "source": [
    "We can observe that there are no null values"
   ]
  },
  {
   "cell_type": "markdown",
   "metadata": {
    "colab_type": "text",
    "id": "R4AJRIu3ot-D"
   },
   "source": [
    "# Analyzing TARGET Column and Various Features"
   ]
  },
  {
   "cell_type": "markdown",
   "metadata": {
    "colab_type": "text",
    "id": "B9PqKmMAot-E"
   },
   "source": [
    "We are using value_counts() to find out the count for each unique value in the churn. We can observe that the rate of people who are trying to churn is less."
   ]
  },
  {
   "cell_type": "code",
   "execution_count": null,
   "metadata": {
    "colab": {
     "base_uri": "https://localhost:8080/",
     "height": 67
    },
    "colab_type": "code",
    "id": "lfinoY33ot-E",
    "outputId": "872edb57-6fb8-4c1d-eda9-6f732f917594"
   },
   "outputs": [],
   "source": [
    "df.churn.value_counts()"
   ]
  },
  {
   "cell_type": "markdown",
   "metadata": {
    "colab_type": "text",
    "id": "sTd0snaqot-H"
   },
   "source": [
    "Here, we are calculating the churn percentage and we can observe that the total churn percentage of tth dataframe is 14.491%."
   ]
  },
  {
   "cell_type": "code",
   "execution_count": null,
   "metadata": {
    "colab": {
     "base_uri": "https://localhost:8080/",
     "height": 34
    },
    "colab_type": "code",
    "id": "q-4Jn3sKot-H",
    "outputId": "0acc16bc-1639-4cf8-a4ce-97824767c718"
   },
   "outputs": [],
   "source": [
    "churn_percentage = df[\"churn\"].sum() * 100 / df[\"churn\"].shape[0]\n",
    "print(\"Churn percentage is %.3f%%.\" % churn_percentage)"
   ]
  },
  {
   "cell_type": "markdown",
   "metadata": {
    "colab_type": "text",
    "id": "mWXltll3ot-K"
   },
   "source": [
    "We are plotting a bar plot to analyze the churn rate. We can observe that there are only few people trying to churn and maximum customers are not planning to churn."
   ]
  },
  {
   "cell_type": "code",
   "execution_count": null,
   "metadata": {
    "colab": {
     "base_uri": "https://localhost:8080/",
     "height": 279
    },
    "colab_type": "code",
    "id": "zGEcxHNkot-L",
    "outputId": "14532ec6-0aa6-4c58-9cfd-3c4f5e1f58d9"
   },
   "outputs": [],
   "source": [
    "a=sns.countplot(x='churn',data=df)"
   ]
  },
  {
   "cell_type": "code",
   "execution_count": null,
   "metadata": {
    "colab": {
     "base_uri": "https://localhost:8080/",
     "height": 279
    },
    "colab_type": "code",
    "id": "zmstAdyAot-N",
    "outputId": "173d03ed-a0a3-4662-d8e0-3ded1fa75442"
   },
   "outputs": [],
   "source": [
    "a=sns.countplot(x='international plan',data=df)"
   ]
  },
  {
   "cell_type": "markdown",
   "metadata": {
    "colab_type": "text",
    "id": "8WSyhJkgot-P"
   },
   "source": [
    "# Correlation between Various Columns\n",
    " Here, we are plotting a correlation map to analyze the correlation between columns."
   ]
  },
  {
   "cell_type": "code",
   "execution_count": null,
   "metadata": {
    "colab": {
     "base_uri": "https://localhost:8080/",
     "height": 67
    },
    "colab_type": "code",
    "id": "Z23z6AHqot-Q",
    "outputId": "226db1a6-7ce5-466f-b079-c9e3d41df518"
   },
   "outputs": [],
   "source": [
    "!pip install plotly\n",
    "import plotly\n",
    "import plotly.graph_objs as go\n",
    "import plotly.figure_factory as ff\n",
    "from plotly.offline import init_notebook_mode\n",
    "init_notebook_mode(connected=True)\n",
    "from plotly.offline import plot, iplot"
   ]
  },
  {
   "cell_type": "code",
   "execution_count": null,
   "metadata": {
    "colab": {
     "base_uri": "https://localhost:8080/",
     "height": 817
    },
    "colab_type": "code",
    "id": "JAvxMSKkot-T",
    "outputId": "8e8e8a4f-e69c-469f-c2d8-0b31a1dac22b"
   },
   "outputs": [],
   "source": [
    "cr = df.corr()\n",
    "trace = go.Heatmap(z=cr.values.tolist(), x=cr.columns, y=cr.columns)\n",
    "data=[trace]\n",
    "layout = go.Layout(\n",
    "    title='Visualization for pairwise correlation of the columns',\n",
    "    width=1100,\n",
    "    height=800,\n",
    "    yaxis=go.layout.YAxis(automargin=True),\n",
    "    xaxis=dict(tickangle=50),\n",
    "    margin=go.layout.Margin(l=0, r=300, b=300, t=90)\n",
    ")\n",
    "\n",
    "\n",
    "\n",
    "fig = go.Figure(data=data, layout=layout)\n",
    "iplot(fig, filename='heatmap1')"
   ]
  },
  {
   "cell_type": "markdown",
   "metadata": {
    "colab_type": "text",
    "id": "MmNKV3x4ot-V"
   },
   "source": [
    "From the above map, we can see that churn has highest correlation with columns total day charge, total day minutes, total eve charge, total eve minutes, total night charge, total night minutes,total intl charge and total intl minutes.\n",
    "\n",
    "The columns that have highest correlation with the churn variable are the total_day_charge, the total_day_minutes and the number of customer service calls.\n",
    "\n",
    "MULTICOLLINEAR VARIABLES Night Mins , Night Charge 0.999999\n",
    "\n",
    "Eve Charge , Eve Mins 1.000000\n",
    "\n",
    "Day Charge , Day Mins 1.000000\n",
    "\n",
    "Intl Charge , Intl Mins 0.999993"
   ]
  },
  {
   "cell_type": "markdown",
   "metadata": {
    "colab_type": "text",
    "id": "LlJQgS7Lot-V"
   },
   "source": [
    "Here, we are using groupby on churn to group data with other columns and then we are using mean() to find out their mean. We can observe that the mean of total day minutes with respect to churn is highest among all the others."
   ]
  },
  {
   "cell_type": "code",
   "execution_count": null,
   "metadata": {
    "colab": {
     "base_uri": "https://localhost:8080/",
     "height": 170
    },
    "colab_type": "code",
    "id": "Go27iUfAot-W",
    "outputId": "e3e25ebf-5072-40bf-f3d7-781a711f7e32"
   },
   "outputs": [],
   "source": [
    "df.groupby(['churn']).mean()"
   ]
  },
  {
   "cell_type": "markdown",
   "metadata": {
    "colab_type": "text",
    "id": "64qXvN3aot-Y"
   },
   "source": [
    "Here, we plotting a graph to analyze the churn rate with respect to total day charge column."
   ]
  },
  {
   "cell_type": "code",
   "execution_count": null,
   "metadata": {
    "colab": {
     "base_uri": "https://localhost:8080/",
     "height": 514
    },
    "colab_type": "code",
    "id": "_oaHv2mfot-Y",
    "outputId": "50e715fe-6b7e-4bb8-9c3d-242ff0be24c1"
   },
   "outputs": [],
   "source": [
    "plt.figure(figsize=(14,8))\n",
    "df[df['churn']==1]['total day charge'].hist(bins=40,color = 'red',label = 'churn 1',alpha = 0.6)\n",
    "df[df['churn']==0]['total day charge'].hist(bins = 40,color = 'blue',label = 'churn 0',alpha = 0.6)\n",
    "plt.legend()\n",
    "plt.xlabel('TOTAL DAY CHARGE vs CHURN RATE')"
   ]
  },
  {
   "cell_type": "markdown",
   "metadata": {
    "colab_type": "text",
    "id": "vpM4u51Kot-b"
   },
   "source": [
    "From the above graph, we can observe that the rate of churn is high in customers with high day charges."
   ]
  },
  {
   "cell_type": "markdown",
   "metadata": {
    "colab_type": "text",
    "id": "ypmes1bjot-b"
   },
   "source": [
    "Then, we are plotting another visualization to analyze the churn rate with respect to customer service calls."
   ]
  },
  {
   "cell_type": "code",
   "execution_count": null,
   "metadata": {
    "colab": {
     "base_uri": "https://localhost:8080/",
     "height": 514
    },
    "colab_type": "code",
    "id": "fmeslHQ9ot-c",
    "outputId": "d423cefb-ddf5-43d7-a52e-eed32e99185b"
   },
   "outputs": [],
   "source": [
    "plt.figure(figsize=(14,8))\n",
    "sns.countplot(x='customer service calls',hue = 'churn',data=df,palette='Set1' )"
   ]
  },
  {
   "cell_type": "markdown",
   "metadata": {
    "colab_type": "text",
    "id": "ts6lQZyWot-e"
   },
   "source": [
    "From the above graph, we can observe that churn is directly proportional to customer service calls. That is, churn is increasing with increase in customer service calls."
   ]
  },
  {
   "cell_type": "markdown",
   "metadata": {
    "colab_type": "text",
    "id": "IxvM2Lziot-f"
   },
   "source": [
    "Here, we are plotting churn with international plan attribute to analyze the churn rate with respect to international plan factor."
   ]
  },
  {
   "cell_type": "code",
   "execution_count": null,
   "metadata": {
    "colab": {
     "base_uri": "https://localhost:8080/",
     "height": 514
    },
    "colab_type": "code",
    "id": "4nE5RdMyot-f",
    "outputId": "879ad921-8bde-406f-eb8c-27495028ef0d"
   },
   "outputs": [],
   "source": [
    "plt.figure(figsize=(14,8))\n",
    "sns.countplot(x ='international plan',hue='churn',data = df,palette='Set2')"
   ]
  },
  {
   "cell_type": "markdown",
   "metadata": {
    "colab_type": "text",
    "id": "EfE6FH7vot-i"
   },
   "source": [
    "From the above plot, we can observe that the churn rate is high for customers with international plan when compared to customers with no international plan. "
   ]
  },
  {
   "cell_type": "markdown",
   "metadata": {
    "colab_type": "text",
    "id": "GJaRFIMrot-j"
   },
   "source": [
    "# Checking and clipping outliers"
   ]
  },
  {
   "cell_type": "markdown",
   "metadata": {
    "colab_type": "text",
    "id": "64qPJUypot-k"
   },
   "source": [
    "Now that we analyzed the correlating factors, let us check for the outliers in the respective columns."
   ]
  },
  {
   "cell_type": "code",
   "execution_count": null,
   "metadata": {
    "colab": {
     "base_uri": "https://localhost:8080/",
     "height": 296
    },
    "colab_type": "code",
    "id": "3wVRVTP2ot-l",
    "outputId": "3d625a14-87d5-4c15-b789-a3eb730282a1"
   },
   "outputs": [],
   "source": [
    "sns.boxplot(df['total day charge'])"
   ]
  },
  {
   "cell_type": "markdown",
   "metadata": {
    "colab_type": "text",
    "id": "1ACL4Fi-ot-o"
   },
   "source": [
    "From the above plot, we can observe that range of diversity is extreme. That is, even though more data points lie in the average range, there are few datapoints that are at the extreme corners which has an effect on the analysis. Hence, we are removing the outliers to get better results in the analysis."
   ]
  },
  {
   "cell_type": "code",
   "execution_count": null,
   "metadata": {
    "colab": {
     "base_uri": "https://localhost:8080/",
     "height": 50
    },
    "colab_type": "code",
    "id": "znweuxgcot-o",
    "outputId": "03618024-4048-4812-c0e2-4a4f43b2a94c"
   },
   "outputs": [],
   "source": [
    "print(df['total day charge'].quantile(0.99))\n",
    "print(df['total day charge'].quantile(0.01))"
   ]
  },
  {
   "cell_type": "markdown",
   "metadata": {
    "colab_type": "text",
    "id": "gioiZk2zot-s"
   },
   "source": [
    "We are plotting the above alterations here by clipping the boundaries."
   ]
  },
  {
   "cell_type": "code",
   "execution_count": null,
   "metadata": {
    "colab": {
     "base_uri": "https://localhost:8080/",
     "height": 296
    },
    "colab_type": "code",
    "id": "eOXjZ9p-ot-s",
    "outputId": "f5c3ee51-92a4-43d1-ecbf-96b409569325"
   },
   "outputs": [],
   "source": [
    "df['total day charge'].clip(lower =8.81,upper = 51.87,inplace = True)\n",
    "sns.boxplot(df['total day charge'])"
   ]
  },
  {
   "cell_type": "markdown",
   "metadata": {
    "colab_type": "text",
    "id": "1TWMbsS1ot-u"
   },
   "source": [
    "After removing the outliers, analysis can be better."
   ]
  },
  {
   "cell_type": "markdown",
   "metadata": {
    "colab_type": "text",
    "id": "kZmd1V9bot-v"
   },
   "source": [
    "After plotting total day minutes, we can observe that the majority datapoints are in the middle but there are outliers that are at extremes. Hence, we are removing the outliers."
   ]
  },
  {
   "cell_type": "code",
   "execution_count": null,
   "metadata": {
    "colab": {
     "base_uri": "https://localhost:8080/",
     "height": 296
    },
    "colab_type": "code",
    "id": "C1PKDRA9ot-w",
    "outputId": "469e836a-a82e-4c47-fb57-2b2326e344c4"
   },
   "outputs": [],
   "source": [
    "sns.boxplot(df['total day minutes'])"
   ]
  },
  {
   "cell_type": "code",
   "execution_count": null,
   "metadata": {
    "colab": {
     "base_uri": "https://localhost:8080/",
     "height": 50
    },
    "colab_type": "code",
    "id": "f9ZppexHot-z",
    "outputId": "58db497b-aaab-49b7-a9e8-d7e373aa4792"
   },
   "outputs": [],
   "source": [
    "print(df['total day minutes'].quantile(0.99))\n",
    "print(df['total day minutes'].quantile(0.01))"
   ]
  },
  {
   "cell_type": "code",
   "execution_count": null,
   "metadata": {
    "colab": {
     "base_uri": "https://localhost:8080/",
     "height": 296
    },
    "colab_type": "code",
    "id": "dSI0rVFhot-3",
    "outputId": "cff3e396-956c-46b2-b0a7-e9cfc892e8e0"
   },
   "outputs": [],
   "source": [
    "df['total day minutes'].clip(lower =51.83,upper = 305.168,inplace = True)\n",
    "sns.boxplot(df['total day minutes'])"
   ]
  },
  {
   "cell_type": "markdown",
   "metadata": {
    "colab_type": "text",
    "id": "aC1pDZYSot-4"
   },
   "source": [
    "The plot range is reduced here to remove the outliers after calculating the average starting and ending range of the plot being 50 and 300 for better analysis results."
   ]
  },
  {
   "cell_type": "markdown",
   "metadata": {
    "colab_type": "text",
    "id": "54AzwVHyot-5"
   },
   "source": [
    "We are perfoming the same process of identifying and removing the outliers on total eve charge column."
   ]
  },
  {
   "cell_type": "code",
   "execution_count": null,
   "metadata": {
    "colab": {
     "base_uri": "https://localhost:8080/",
     "height": 296
    },
    "colab_type": "code",
    "id": "jUYAGFgPot-5",
    "outputId": "50968ff6-e676-4187-888e-df764bb46dbc"
   },
   "outputs": [],
   "source": [
    "sns.boxplot(df['total eve charge'])"
   ]
  },
  {
   "cell_type": "code",
   "execution_count": null,
   "metadata": {
    "colab": {
     "base_uri": "https://localhost:8080/",
     "height": 50
    },
    "colab_type": "code",
    "id": "bT9XcJkxot-7",
    "outputId": "5e373a38-8305-426f-8eac-ee3c4f3ce623",
    "scrolled": true
   },
   "outputs": [],
   "source": [
    "print(df['total eve charge'].quantile(0.99))\n",
    "print(df['total eve charge'].quantile(0.01))"
   ]
  },
  {
   "cell_type": "code",
   "execution_count": null,
   "metadata": {
    "colab": {
     "base_uri": "https://localhost:8080/",
     "height": 296
    },
    "colab_type": "code",
    "id": "w-uWULrtot-9",
    "outputId": "1b102576-4104-4e76-ab13-d3bc81a3a09e"
   },
   "outputs": [],
   "source": [
    "df['total eve charge'].clip(lower =6.7,upper = 27.113,inplace = True)\n",
    "sns.boxplot(df['total eve charge'])"
   ]
  },
  {
   "cell_type": "markdown",
   "metadata": {
    "colab_type": "text",
    "id": "y0OlvfAfot-_"
   },
   "source": [
    "After calculating, we can observe that the boundaries are reformed to 7.5 and 27.5 as the extreme data points are removed and average is calculated to be 6.7 and 27.1."
   ]
  },
  {
   "cell_type": "markdown",
   "metadata": {
    "colab_type": "text",
    "id": "ar1NULMsot-_"
   },
   "source": [
    "The same process is applied, outliers are identified and clipped after calculating for total eve minutes column."
   ]
  },
  {
   "cell_type": "code",
   "execution_count": null,
   "metadata": {
    "colab": {
     "base_uri": "https://localhost:8080/",
     "height": 296
    },
    "colab_type": "code",
    "id": "AVgsKT6iot_A",
    "outputId": "f8fbdebb-4a6b-494d-f53e-c275b2c036f0"
   },
   "outputs": [],
   "source": [
    "sns.boxplot(df['total eve minutes'])"
   ]
  },
  {
   "cell_type": "code",
   "execution_count": null,
   "metadata": {
    "colab": {
     "base_uri": "https://localhost:8080/",
     "height": 50
    },
    "colab_type": "code",
    "id": "5egjNbFHot_E",
    "outputId": "3d3a3e7d-b5f2-4e5c-ed69-b6981953a44e",
    "scrolled": false
   },
   "outputs": [],
   "source": [
    "print(df['total eve minutes'].quantile(0.99))\n",
    "print(df['total eve minutes'].quantile(0.01))"
   ]
  },
  {
   "cell_type": "code",
   "execution_count": null,
   "metadata": {
    "colab": {
     "base_uri": "https://localhost:8080/",
     "height": 296
    },
    "colab_type": "code",
    "id": "_zQBK4tgot_H",
    "outputId": "87966441-d487-4c16-ec5b-952e4ae5ed40",
    "scrolled": true
   },
   "outputs": [],
   "source": [
    "df['total eve minutes'].clip(lower =79.524,upper = 318.936,inplace = True)\n",
    "sns.boxplot(df['total eve minutes'])"
   ]
  },
  {
   "cell_type": "markdown",
   "metadata": {
    "colab_type": "text",
    "id": "TlWaFfKAot_J"
   },
   "source": [
    "The same process is applied, outliers are identified and clipped after calculating for total intl minutes column."
   ]
  },
  {
   "cell_type": "code",
   "execution_count": null,
   "metadata": {
    "colab": {
     "base_uri": "https://localhost:8080/",
     "height": 296
    },
    "colab_type": "code",
    "id": "JvVMwAIXot_L",
    "outputId": "6f9b6af4-1615-446a-a328-85513ae5bdca"
   },
   "outputs": [],
   "source": [
    "sns.boxplot(df['total intl minutes'])"
   ]
  },
  {
   "cell_type": "code",
   "execution_count": null,
   "metadata": {
    "colab": {
     "base_uri": "https://localhost:8080/",
     "height": 50
    },
    "colab_type": "code",
    "id": "EWicvv2Xot_O",
    "outputId": "3e9506f7-fd38-41f8-8503-6ff1bbae0143"
   },
   "outputs": [],
   "source": [
    "print(df['total intl minutes'].quantile(0.99))\n",
    "print(df['total intl minutes'].quantile(0.01))"
   ]
  },
  {
   "cell_type": "code",
   "execution_count": null,
   "metadata": {
    "colab": {
     "base_uri": "https://localhost:8080/",
     "height": 296
    },
    "colab_type": "code",
    "id": "9ydz_WpPot_Q",
    "outputId": "445385f2-8a2d-434e-f1d0-d5a7892c77eb"
   },
   "outputs": [],
   "source": [
    "df['total intl minutes'].clip(lower =3.332,upper = 16.66,inplace = True)\n",
    "sns.boxplot(df['total intl minutes'])"
   ]
  },
  {
   "cell_type": "markdown",
   "metadata": {
    "colab_type": "text",
    "id": "WgXdqdrOot_R"
   },
   "source": [
    "The same process is applied, outliers are identified and clipped after calculating for total intl charge column."
   ]
  },
  {
   "cell_type": "code",
   "execution_count": null,
   "metadata": {
    "colab": {
     "base_uri": "https://localhost:8080/",
     "height": 296
    },
    "colab_type": "code",
    "id": "-morz-T0ot_S",
    "outputId": "89693f7c-2792-4fe8-f29b-75cf564c38d8"
   },
   "outputs": [],
   "source": [
    "sns.boxplot(df['total intl charge'])"
   ]
  },
  {
   "cell_type": "code",
   "execution_count": null,
   "metadata": {
    "colab": {
     "base_uri": "https://localhost:8080/",
     "height": 50
    },
    "colab_type": "code",
    "id": "VmeBDIb0ot_V",
    "outputId": "246f162c-9481-4ff2-adef-c7610287896c"
   },
   "outputs": [],
   "source": [
    "print(df['total intl charge'].quantile(0.99))\n",
    "print(df['total intl charge'].quantile(0.01))"
   ]
  },
  {
   "cell_type": "code",
   "execution_count": null,
   "metadata": {
    "colab": {
     "base_uri": "https://localhost:8080/",
     "height": 296
    },
    "colab_type": "code",
    "id": "WmkMMXG0ot_X",
    "outputId": "3bee2b42-e9ca-40aa-8a02-facc9fac3b3f"
   },
   "outputs": [],
   "source": [
    "df['total intl charge'].clip(lower =0.89,upper = 4.50,inplace = True)\n",
    "sns.boxplot(df['total intl charge'])"
   ]
  },
  {
   "cell_type": "code",
   "execution_count": null,
   "metadata": {
    "colab": {
     "base_uri": "https://localhost:8080/",
     "height": 296
    },
    "colab_type": "code",
    "id": "WNLjoxgQot_Y",
    "outputId": "8fd635a9-9e18-4456-bee9-d42f35b20d7f"
   },
   "outputs": [],
   "source": [
    "sns.boxplot(df['account length'])"
   ]
  },
  {
   "cell_type": "code",
   "execution_count": null,
   "metadata": {
    "colab": {
     "base_uri": "https://localhost:8080/",
     "height": 296
    },
    "colab_type": "code",
    "id": "Y63LVoYPot_a",
    "outputId": "5de6d4d6-4c47-41e8-93d3-63499c9af01f"
   },
   "outputs": [],
   "source": [
    "df['account length'].clip(upper = 200,inplace = True)\n",
    "sns.boxplot(df['account length'])"
   ]
  },
  {
   "cell_type": "code",
   "execution_count": null,
   "metadata": {
    "colab": {
     "base_uri": "https://localhost:8080/",
     "height": 296
    },
    "colab_type": "code",
    "id": "ne7ratXLot_d",
    "outputId": "222db3de-ce6b-4362-abb2-912341349d61"
   },
   "outputs": [],
   "source": [
    "sns.boxplot(df['total night minutes'])"
   ]
  },
  {
   "cell_type": "code",
   "execution_count": null,
   "metadata": {
    "colab": {
     "base_uri": "https://localhost:8080/",
     "height": 50
    },
    "colab_type": "code",
    "id": "uczm7RXwot_f",
    "outputId": "840f5b4a-08b4-470b-845d-fc3cf792b80c"
   },
   "outputs": [],
   "source": [
    "print(df['total night minutes'].quantile(0.99))\n",
    "print(df['total night minutes'].quantile(0.01))"
   ]
  },
  {
   "cell_type": "code",
   "execution_count": null,
   "metadata": {
    "colab": {
     "base_uri": "https://localhost:8080/",
     "height": 296
    },
    "colab_type": "code",
    "id": "_jiM8IHTot_h",
    "outputId": "30ecc5b5-c209-4aac-88ec-4531d3d8de39"
   },
   "outputs": [],
   "source": [
    "df['total night minutes'].clip(lower =79.428,upper = 317.44,inplace = True)\n",
    "sns.boxplot(df['total night minutes'])"
   ]
  },
  {
   "cell_type": "code",
   "execution_count": null,
   "metadata": {
    "colab": {
     "base_uri": "https://localhost:8080/",
     "height": 296
    },
    "colab_type": "code",
    "id": "qEEx2Xqiot_i",
    "outputId": "5691a22e-3340-49d3-ae85-387098ffe03f"
   },
   "outputs": [],
   "source": [
    "sns.boxplot(df['total night charge'])"
   ]
  },
  {
   "cell_type": "code",
   "execution_count": null,
   "metadata": {
    "colab": {
     "base_uri": "https://localhost:8080/",
     "height": 50
    },
    "colab_type": "code",
    "id": "cD7gLwQ4ot_k",
    "outputId": "c3322711-3e08-4b40-88fc-908796133dac"
   },
   "outputs": [],
   "source": [
    "print(df['total night charge'].quantile(0.99))\n",
    "print(df['total night charge'].quantile(0.01))"
   ]
  },
  {
   "cell_type": "code",
   "execution_count": null,
   "metadata": {
    "colab": {
     "base_uri": "https://localhost:8080/",
     "height": 296
    },
    "colab_type": "code",
    "id": "AVYPoL40ot_m",
    "outputId": "cba6a3d8-c59c-4812-f73e-69ba2c162463"
   },
   "outputs": [],
   "source": [
    "df['total night charge'].clip(lower =3.57,upper =14.28 ,inplace = True)\n",
    "sns.boxplot(df['total night charge'])"
   ]
  },
  {
   "cell_type": "code",
   "execution_count": null,
   "metadata": {
    "colab": {
     "base_uri": "https://localhost:8080/",
     "height": 151
    },
    "colab_type": "code",
    "id": "-F8RrtLbwB7Y",
    "outputId": "7b3d438e-8bb8-4ac2-879f-89103b739723"
   },
   "outputs": [],
   "source": [
    "df.columns"
   ]
  },
  {
   "cell_type": "code",
   "execution_count": null,
   "metadata": {
    "colab": {
     "base_uri": "https://localhost:8080/",
     "height": 313
    },
    "colab_type": "code",
    "id": "mmqSHp90gHqe",
    "outputId": "0e1b5de4-a815-4de6-8664-c46847e44c49"
   },
   "outputs": [],
   "source": [
    "df.head()"
   ]
  },
  {
   "cell_type": "markdown",
   "metadata": {
    "colab_type": "text",
    "id": "Pf9ctoCQNFgP"
   },
   "source": [
    "## Model Building:\n",
    "\n",
    "At this point of time I have used three differnt algorithms to perform classification analysis on this data to predict the churn.\n",
    "From the family of regression algorithms i have used logit regression, KNearestNeighbors algorithm to know how NearestNeighbours would work on this data and Random Forest from Regression trees family. Also performed PCA for the dimensionalty reduction creating two new pca components. Created clusters on the columns like state, area code, phone number as these are unique identification codes and can't be used to feed algorith. Creating clusters have hleped me detect similarities between these 3 columns and helped me feed it to the model."
   ]
  },
  {
   "cell_type": "markdown",
   "metadata": {
    "colab_type": "text",
    "id": "RhXHvmdLfIcz"
   },
   "source": [
    "Creating two dataframes, X with predictor variables and Y with target varibale Churn."
   ]
  },
  {
   "cell_type": "code",
   "execution_count": null,
   "metadata": {
    "colab": {},
    "colab_type": "code",
    "id": "_-TMccBKfZDZ"
   },
   "outputs": [],
   "source": [
    "X=df[['account length','international plan','voice mail plan','number vmail messages','total day calls','total day charge','total eve calls','total eve charge',\n",
    "      'total night calls','total night charge','total intl calls','total intl charge','customer service calls']]"
   ]
  },
  {
   "cell_type": "code",
   "execution_count": null,
   "metadata": {
    "colab": {},
    "colab_type": "code",
    "id": "afquYjTZhCKK"
   },
   "outputs": [],
   "source": [
    "Y=df[['churn']]"
   ]
  },
  {
   "cell_type": "markdown",
   "metadata": {
    "colab_type": "text",
    "id": "G_C9_2-tNV6A"
   },
   "source": [
    "Using pd.get_dummies to covert the categorical(yes/no) columns international plan and voicemail plan to numerical(0/1). It's observed that people with international plan and voicemail plan are more likely to churn."
   ]
  },
  {
   "cell_type": "code",
   "execution_count": null,
   "metadata": {
    "colab": {},
    "colab_type": "code",
    "id": "5HZVn8bg-RDK"
   },
   "outputs": [],
   "source": [
    "X = pd.get_dummies(X,columns=['international plan','voice mail plan'],drop_first=True) ## creating dummy variables for categorical "
   ]
  },
  {
   "cell_type": "code",
   "execution_count": null,
   "metadata": {
    "colab": {
     "base_uri": "https://localhost:8080/",
     "height": 212
    },
    "colab_type": "code",
    "id": "7ah48PMk-gWn",
    "outputId": "80af3274-c247-45f6-8348-f520b0b028d5"
   },
   "outputs": [],
   "source": [
    "X.head()"
   ]
  },
  {
   "cell_type": "markdown",
   "metadata": {
    "colab_type": "text",
    "id": "0KUWibrsisjv"
   },
   "source": [
    "Feature Scaling of training data using Min-Max sacling to normalize data i.e, to set all fetaures to one range of scale.\n",
    "\n",
    "                     Xsc = [X-Xmin]/[Xmax-Xmin]\n",
    "                  -data is sclaed to a range of [0-1]\n",
    "                  -the cost of having this range, in contrast to standard deviation is we will end up having smaller standard deviation.\n",
    "\n",
    "\n",
    "\n",
    "\n",
    "\n",
    "\n",
    "\n"
   ]
  },
  {
   "cell_type": "code",
   "execution_count": null,
   "metadata": {
    "colab": {},
    "colab_type": "code",
    "id": "4NrGin_Hiq9y"
   },
   "outputs": [],
   "source": [
    "from sklearn.preprocessing import MinMaxScaler"
   ]
  },
  {
   "cell_type": "code",
   "execution_count": null,
   "metadata": {
    "colab": {},
    "colab_type": "code",
    "id": "558Td7_zjsN8"
   },
   "outputs": [],
   "source": [
    "scaler=MinMaxScaler()\n",
    "X = pd.DataFrame(scaler.fit_transform(X),columns=X.columns)"
   ]
  },
  {
   "cell_type": "code",
   "execution_count": null,
   "metadata": {
    "colab": {
     "base_uri": "https://localhost:8080/",
     "height": 212
    },
    "colab_type": "code",
    "id": "Kj23eqHAlJ-n",
    "outputId": "e4d0959d-19f6-4f84-a20b-cf0746c05cef"
   },
   "outputs": [],
   "source": [
    "X.head()"
   ]
  },
  {
   "cell_type": "code",
   "execution_count": null,
   "metadata": {
    "colab": {},
    "colab_type": "code",
    "id": "k51gQZ7IhRBN"
   },
   "outputs": [],
   "source": [
    "from sklearn.model_selection import train_test_split"
   ]
  },
  {
   "cell_type": "code",
   "execution_count": null,
   "metadata": {
    "colab": {},
    "colab_type": "code",
    "id": "Fv0g94yxhjLL"
   },
   "outputs": [],
   "source": [
    "## Splitting X and Y dataframes into train, test sets using train_test_split\n",
    "X_train, X_test, Y_train, Y_test = train_test_split(X, Y, test_size=0.30, random_state=42)"
   ]
  },
  {
   "cell_type": "markdown",
   "metadata": {
    "colab_type": "text",
    "id": "Ovob1Edfmdo-"
   },
   "source": [
    "## LogisticRegression Model:\n"
   ]
  },
  {
   "cell_type": "code",
   "execution_count": null,
   "metadata": {
    "colab": {},
    "colab_type": "code",
    "id": "MqCg4G-YiK5y"
   },
   "outputs": [],
   "source": [
    "from sklearn.linear_model import LogisticRegression"
   ]
  },
  {
   "cell_type": "code",
   "execution_count": null,
   "metadata": {
    "colab": {
     "base_uri": "https://localhost:8080/",
     "height": 84
    },
    "colab_type": "code",
    "id": "CopnCsNnljKQ",
    "outputId": "47ac2a70-59c2-4040-87f1-93e15ec66611"
   },
   "outputs": [],
   "source": [
    "## Fitting LogisticRegression model on X_train and Y_train\n",
    "Log_clf = LogisticRegression(random_state=42,class_weight='balanced').fit(X_train, Y_train)"
   ]
  },
  {
   "cell_type": "markdown",
   "metadata": {
    "colab_type": "text",
    "id": "QlUk6ZSGTEzP"
   },
   "source": [
    "$p=1/1+e^{-(b0+b1x)}$"
   ]
  },
  {
   "cell_type": "code",
   "execution_count": null,
   "metadata": {
    "colab": {
     "base_uri": "https://localhost:8080/",
     "height": 34
    },
    "colab_type": "code",
    "id": "cw4zWedel8AN",
    "outputId": "42b18342-1af3-4d20-9998-cd732b8e9554"
   },
   "outputs": [],
   "source": [
    "Log_clf.intercept_  ## this is the expected mean value of y when x=0"
   ]
  },
  {
   "cell_type": "code",
   "execution_count": null,
   "metadata": {
    "colab": {
     "base_uri": "https://localhost:8080/",
     "height": 67
    },
    "colab_type": "code",
    "id": "D6L6qG__mKnp",
    "outputId": "6a9de7ff-62ac-43f5-f9f6-465886d70522"
   },
   "outputs": [],
   "source": [
    "Log_clf.coef_ ## coefficient of each coulmn variable x1,x2,... here we have 16 columns"
   ]
  },
  {
   "cell_type": "code",
   "execution_count": null,
   "metadata": {
    "colab": {},
    "colab_type": "code",
    "id": "JiRXzVxbmRfJ"
   },
   "outputs": [],
   "source": [
    "## prediction on Train data\n",
    "Log_Train_Pred = Log_clf.predict(X_train)"
   ]
  },
  {
   "cell_type": "code",
   "execution_count": null,
   "metadata": {
    "colab": {},
    "colab_type": "code",
    "id": "dm34wSvhynWh"
   },
   "outputs": [],
   "source": [
    "from sklearn.metrics import classification_report,confusion_matrix,accuracy_score"
   ]
  },
  {
   "cell_type": "code",
   "execution_count": null,
   "metadata": {
    "colab": {
     "base_uri": "https://localhost:8080/",
     "height": 168
    },
    "colab_type": "code",
    "id": "iUemQHx8yqnn",
    "outputId": "8908d55c-0173-4f1a-ea72-43e9700b2770"
   },
   "outputs": [],
   "source": [
    "print(classification_report(Y_train,Log_Train_Pred))"
   ]
  },
  {
   "cell_type": "markdown",
   "metadata": {
    "colab_type": "text",
    "id": "RiX3RBIvepcn"
   },
   "source": [
    "Using logisitc regression algorithm prediction on training data is observed to be 77%."
   ]
  },
  {
   "cell_type": "code",
   "execution_count": null,
   "metadata": {
    "colab": {},
    "colab_type": "code",
    "id": "bzE9i7IyyzRv"
   },
   "outputs": [],
   "source": [
    "## prediction on Test data\n",
    "Log_Test_Pred = Log_clf.predict(X_test)"
   ]
  },
  {
   "cell_type": "code",
   "execution_count": null,
   "metadata": {
    "colab": {
     "base_uri": "https://localhost:8080/",
     "height": 168
    },
    "colab_type": "code",
    "id": "XsV8b0DxzP8i",
    "outputId": "062ebc7d-7c9c-4a24-cace-a550f5c1f49c"
   },
   "outputs": [],
   "source": [
    "print(classification_report(Y_test,Log_Test_Pred))"
   ]
  },
  {
   "cell_type": "markdown",
   "metadata": {
    "colab_type": "text",
    "id": "HYoqJ0Z3fFdc"
   },
   "source": [
    "Actually the logit regression model performed better on tetsing data giving an accuracy of 78%."
   ]
  },
  {
   "cell_type": "code",
   "execution_count": null,
   "metadata": {
    "colab": {},
    "colab_type": "code",
    "id": "G0G0SJwL_mrh"
   },
   "outputs": [],
   "source": []
  },
  {
   "cell_type": "code",
   "execution_count": null,
   "metadata": {
    "colab": {},
    "colab_type": "code",
    "id": "icIx5rdP_mua"
   },
   "outputs": [],
   "source": []
  },
  {
   "cell_type": "markdown",
   "metadata": {
    "colab_type": "text",
    "id": "EOPNZwBn3FWB"
   },
   "source": [
    "# NearestNeighbors:\n",
    "\n",
    "Applying KNearestNeighbors classifer "
   ]
  },
  {
   "cell_type": "code",
   "execution_count": null,
   "metadata": {
    "colab": {},
    "colab_type": "code",
    "id": "Xx-ADY1v3RoF"
   },
   "outputs": [],
   "source": [
    "from sklearn.neighbors import KNeighborsClassifier"
   ]
  },
  {
   "cell_type": "code",
   "execution_count": null,
   "metadata": {
    "colab": {},
    "colab_type": "code",
    "id": "UixzVJ8atVIl"
   },
   "outputs": [],
   "source": [
    "knn = KNeighborsClassifier()"
   ]
  },
  {
   "cell_type": "markdown",
   "metadata": {
    "colab_type": "text",
    "id": "XeJdVSL0jGHG"
   },
   "source": [
    "Below loop runs KNN classifier by changing n_neighbors ranging from 1 to 10, to know the optimum value of K where the accuracy of the KNN model is highest."
   ]
  },
  {
   "cell_type": "code",
   "execution_count": null,
   "metadata": {
    "colab": {
     "base_uri": "https://localhost:8080/",
     "height": 622
    },
    "colab_type": "code",
    "id": "LzMPHGei3GGd",
    "outputId": "9097b9ec-d209-4ebf-facb-c0b38fb2bce4"
   },
   "outputs": [],
   "source": [
    "## Calculate optimum value of K \n",
    "Error=[]\n",
    "for i in range(1,10):\n",
    "    knn = KNeighborsClassifier(n_neighbors=i)\n",
    "    knn.fit(X_train,Y_train)\n",
    "    pred_i=knn.predict(X_test)\n",
    "    Error.append(accuracy_score(pred_i,Y_test))\n",
    "   "
   ]
  },
  {
   "cell_type": "code",
   "execution_count": null,
   "metadata": {
    "colab": {
     "base_uri": "https://localhost:8080/",
     "height": 350
    },
    "colab_type": "code",
    "id": "H-9sFhv06oFR",
    "outputId": "7d081ac4-1384-42d4-d28e-f9418905ffc0"
   },
   "outputs": [],
   "source": [
    "plt.figure(figsize=(10,5))\n",
    "plt.plot(range(1,10),Error,markersize = 10)\n",
    "plt.title(\"ERROR  VS K \")\n",
    "plt.ylabel('error')\n",
    "plt.xlabel('K')\n",
    "plt.show()"
   ]
  },
  {
   "cell_type": "markdown",
   "metadata": {
    "colab_type": "text",
    "id": "aJvEriAO8gNP"
   },
   "source": [
    "Plot shows optimum value of K is 1."
   ]
  },
  {
   "cell_type": "code",
   "execution_count": null,
   "metadata": {
    "colab": {},
    "colab_type": "code",
    "id": "gT193Mq16yq9"
   },
   "outputs": [],
   "source": [
    "knn = KNeighborsClassifier(n_neighbors=1)"
   ]
  },
  {
   "cell_type": "code",
   "execution_count": null,
   "metadata": {
    "colab": {
     "base_uri": "https://localhost:8080/",
     "height": 134
    },
    "colab_type": "code",
    "id": "6Eq-zmoL7nzh",
    "outputId": "855064d9-1962-4545-982a-8dfd24cb9915"
   },
   "outputs": [],
   "source": [
    "knn.fit(X_train,Y_train)"
   ]
  },
  {
   "cell_type": "code",
   "execution_count": null,
   "metadata": {
    "colab": {},
    "colab_type": "code",
    "id": "ljfuVly-7pzG"
   },
   "outputs": [],
   "source": [
    "knn_Train_pred=knn.predict(X_train)"
   ]
  },
  {
   "cell_type": "code",
   "execution_count": null,
   "metadata": {
    "colab": {
     "base_uri": "https://localhost:8080/",
     "height": 168
    },
    "colab_type": "code",
    "id": "VIeok9KJ8Fvr",
    "outputId": "2779b191-4e36-412e-91df-c5ae30e96d9a"
   },
   "outputs": [],
   "source": [
    "print(classification_report(Y_train,knn_Train_pred))"
   ]
  },
  {
   "cell_type": "code",
   "execution_count": null,
   "metadata": {
    "colab": {},
    "colab_type": "code",
    "id": "ZGFmDdHP8OB5"
   },
   "outputs": [],
   "source": [
    "knn_Test_pred=knn.predict(X_test)"
   ]
  },
  {
   "cell_type": "code",
   "execution_count": null,
   "metadata": {
    "colab": {
     "base_uri": "https://localhost:8080/",
     "height": 168
    },
    "colab_type": "code",
    "id": "1IsWTwya8ZiR",
    "outputId": "a0b996f2-8eb3-445b-ec72-20806a5d33a7"
   },
   "outputs": [],
   "source": [
    "print(classification_report(Y_test,knn_Test_pred))"
   ]
  },
  {
   "cell_type": "markdown",
   "metadata": {
    "colab_type": "text",
    "id": "qzlS8W3wj0Ml"
   },
   "source": [
    "OverFitting, KNN classifer gives 100% accuarcy when applied on training data and drop in accuracy about 14% is observed when applied on testing data. The problem of overfititng of data is observed in this scenario. "
   ]
  },
  {
   "cell_type": "code",
   "execution_count": null,
   "metadata": {
    "colab": {},
    "colab_type": "code",
    "id": "qPxrO2tv8u7n"
   },
   "outputs": [],
   "source": []
  },
  {
   "cell_type": "code",
   "execution_count": null,
   "metadata": {
    "colab": {},
    "colab_type": "code",
    "id": "31OMRE0Pj4Gd"
   },
   "outputs": [],
   "source": []
  },
  {
   "cell_type": "markdown",
   "metadata": {
    "colab_type": "text",
    "id": "uARaoW0_j4tj"
   },
   "source": [
    "## RandomForest"
   ]
  },
  {
   "cell_type": "code",
   "execution_count": null,
   "metadata": {
    "colab": {},
    "colab_type": "code",
    "id": "9LmoyG8U8vCA"
   },
   "outputs": [],
   "source": [
    "from sklearn.ensemble import RandomForestClassifier"
   ]
  },
  {
   "cell_type": "code",
   "execution_count": null,
   "metadata": {
    "colab": {},
    "colab_type": "code",
    "id": "-Qb4xxEQj7RA"
   },
   "outputs": [],
   "source": [
    "RFclf = RandomForestClassifier(n_estimators=300,max_depth=7,min_samples_leaf=5,class_weight='balanced',random_state=42)"
   ]
  },
  {
   "cell_type": "code",
   "execution_count": null,
   "metadata": {
    "colab": {
     "base_uri": "https://localhost:8080/",
     "height": 218
    },
    "colab_type": "code",
    "id": "smkS-j-WkA7Z",
    "outputId": "a820dc7f-dcb3-4d11-cf00-9ed4ad1bd3fd"
   },
   "outputs": [],
   "source": [
    "RFclf.fit(X_train,Y_train)"
   ]
  },
  {
   "cell_type": "code",
   "execution_count": null,
   "metadata": {
    "colab": {},
    "colab_type": "code",
    "id": "8HDr-G3HkHX7"
   },
   "outputs": [],
   "source": [
    "RFclf_Train_pred=RFclf.predict(X_train)"
   ]
  },
  {
   "cell_type": "code",
   "execution_count": null,
   "metadata": {
    "colab": {
     "base_uri": "https://localhost:8080/",
     "height": 168
    },
    "colab_type": "code",
    "id": "7UkBqVqCkleO",
    "outputId": "11fda9a3-3f24-4f65-9b6c-f401c7d0559f"
   },
   "outputs": [],
   "source": [
    "print(classification_report(Y_train,RFclf_Train_pred))"
   ]
  },
  {
   "cell_type": "code",
   "execution_count": null,
   "metadata": {
    "colab": {},
    "colab_type": "code",
    "id": "TU-_5DABkrLt"
   },
   "outputs": [],
   "source": [
    "RFclf_Test_pred=RFclf.predict(X_test)"
   ]
  },
  {
   "cell_type": "code",
   "execution_count": null,
   "metadata": {
    "colab": {
     "base_uri": "https://localhost:8080/",
     "height": 168
    },
    "colab_type": "code",
    "id": "gQlEHbVjkxYb",
    "outputId": "c8922b5e-0333-4157-eb03-7b2f016b7fbf"
   },
   "outputs": [],
   "source": [
    "print(classification_report(Y_test,RFclf_Test_pred))"
   ]
  },
  {
   "cell_type": "markdown",
   "metadata": {
    "colab_type": "text",
    "id": "zRhgFR8-lGtV"
   },
   "source": [
    "By far RandomForest classifier on the normalized data is the best accuracy we have got. This classifier gives 95% prediction acuuracy on the training data and 94% prediction accuracy on testing data."
   ]
  },
  {
   "cell_type": "code",
   "execution_count": null,
   "metadata": {
    "colab": {
     "base_uri": "https://localhost:8080/",
     "height": 470
    },
    "colab_type": "code",
    "id": "8eS2104KI1KB",
    "outputId": "5be82dfd-1d3f-4393-9041-85d3fab468fd"
   },
   "outputs": [],
   "source": [
    "print('f1-score of LogisticRegression Model',classification_report(Y_test,Log_Test_Pred))\n",
    "print('f1-score of KNN Model',classification_report(Y_test,knn_Test_pred))\n",
    "print('f1-score of RandomForest Model',classification_report(Y_test,RFclf_Test_pred))"
   ]
  },
  {
   "cell_type": "markdown",
   "metadata": {
    "colab_type": "text",
    "id": "blqUidv5Ixlu"
   },
   "source": [
    "## Clustering:"
   ]
  },
  {
   "cell_type": "markdown",
   "metadata": {
    "colab_type": "text",
    "id": "eF5zTI_tk8cP"
   },
   "source": [
    "Finding similarities by clustering Columns like state, area code and phone number which are not used in model bulding in previous models will help and train model to learn  from those similarities. Using K_Means clustering to cluster 3 unique identification columns."
   ]
  },
  {
   "cell_type": "code",
   "execution_count": null,
   "metadata": {
    "colab": {
     "base_uri": "https://localhost:8080/",
     "height": 151
    },
    "colab_type": "code",
    "id": "gq_G1gZYltAt",
    "outputId": "7d448cdf-4301-4ac9-c942-bd38aff48d35"
   },
   "outputs": [],
   "source": [
    "df.columns"
   ]
  },
  {
   "cell_type": "code",
   "execution_count": null,
   "metadata": {
    "colab": {},
    "colab_type": "code",
    "id": "GlHXQJ-Cllfs"
   },
   "outputs": [],
   "source": [
    " df2=df[['state','area code', 'phone number']] ## creating a dataframe with those three columns."
   ]
  },
  {
   "cell_type": "code",
   "execution_count": null,
   "metadata": {
    "colab": {
     "base_uri": "https://localhost:8080/",
     "height": 195
    },
    "colab_type": "code",
    "id": "cQD5s2Ttl1Wi",
    "outputId": "dd74ab26-db85-44ed-a3f9-897d42e00ab8"
   },
   "outputs": [],
   "source": [
    "df2.head()"
   ]
  },
  {
   "cell_type": "code",
   "execution_count": null,
   "metadata": {
    "colab": {},
    "colab_type": "code",
    "id": "ZGHKORHzl3Bb"
   },
   "outputs": [],
   "source": [
    "df3=df2.groupby(['area code','state']).agg('count').reset_index() ## grouping by on areacode and state putting count on howmany phone numbers at that instance."
   ]
  },
  {
   "cell_type": "code",
   "execution_count": null,
   "metadata": {
    "colab": {
     "base_uri": "https://localhost:8080/",
     "height": 402
    },
    "colab_type": "code",
    "id": "3_o9Zy1dmOYI",
    "outputId": "59e27c39-54be-4661-d714-0a807b36dcc8"
   },
   "outputs": [],
   "source": [
    "df3"
   ]
  },
  {
   "cell_type": "code",
   "execution_count": null,
   "metadata": {
    "colab": {},
    "colab_type": "code",
    "id": "XA-tyTTQmPTE"
   },
   "outputs": [],
   "source": [
    "df3['state']=df3['state'].astype('category') "
   ]
  },
  {
   "cell_type": "code",
   "execution_count": null,
   "metadata": {
    "colab": {},
    "colab_type": "code",
    "id": "nztkmi7imodz"
   },
   "outputs": [],
   "source": [
    "df3['state'] = df3['state'].cat.codes ## .cat.codes coverts state category to numerical value "
   ]
  },
  {
   "cell_type": "code",
   "execution_count": null,
   "metadata": {
    "colab": {},
    "colab_type": "code",
    "id": "ZPiFbwncmtvV"
   },
   "outputs": [],
   "source": [
    "L=df3[['state','area code','phone number']]"
   ]
  },
  {
   "cell_type": "code",
   "execution_count": null,
   "metadata": {
    "colab": {},
    "colab_type": "code",
    "id": "nKmORTGtncrc"
   },
   "outputs": [],
   "source": [
    "from sklearn.cluster import KMeans"
   ]
  },
  {
   "cell_type": "markdown",
   "metadata": {
    "colab_type": "text",
    "id": "Lz8NEKnYnadU"
   },
   "source": [
    "Below loop iterates number of clusters ranging from 1 to 10 to know the opitmum value of K."
   ]
  },
  {
   "cell_type": "code",
   "execution_count": null,
   "metadata": {
    "colab": {},
    "colab_type": "code",
    "id": "YIGGy43inqho"
   },
   "outputs": [],
   "source": [
    "WCSS = []\n",
    "for i in range(1, 10):\n",
    "    kmeans = KMeans(n_clusters=i,max_iter=300,random_state=42)\n",
    "    kmeans.fit(L)\n",
    "    WCSS.append(kmeans.inertia_) ## this particular syntax hleps us append the sum of suqares with in cluster using kmeans model.\n"
   ]
  },
  {
   "cell_type": "code",
   "execution_count": null,
   "metadata": {
    "colab": {
     "base_uri": "https://localhost:8080/",
     "height": 295
    },
    "colab_type": "code",
    "id": "FtHWAnKYn6Ml",
    "outputId": "53be7391-0798-4a2d-9516-50181dca999e"
   },
   "outputs": [],
   "source": [
    "plt.plot(range(1,10),WCSS)\n",
    "plt.title('Elbow curve')\n",
    "plt.xlabel('K')\n",
    "plt.ylabel('WCSS')\n",
    "plt.show()"
   ]
  },
  {
   "cell_type": "markdown",
   "metadata": {
    "colab_type": "text",
    "id": "UTKwc5a8ogym"
   },
   "source": [
    "Plotting elbow curve using values of sum of squares for different value of K show the curve begins to flatten between 4 and 5. Righnt now i'm using 5 clusters, which creates 5 different clusters using similarities in 3 columns."
   ]
  },
  {
   "cell_type": "code",
   "execution_count": null,
   "metadata": {
    "colab": {},
    "colab_type": "code",
    "id": "1RDVrbtDoJt9"
   },
   "outputs": [],
   "source": [
    "kmeans = KMeans(n_clusters = 5,max_iter=300,random_state = 3565)"
   ]
  },
  {
   "cell_type": "code",
   "execution_count": null,
   "metadata": {
    "colab": {},
    "colab_type": "code",
    "id": "-dRU2YVfoftc"
   },
   "outputs": [],
   "source": [
    "Y_kmeans= kmeans.fit_predict(L)"
   ]
  },
  {
   "cell_type": "code",
   "execution_count": null,
   "metadata": {
    "colab": {
     "base_uri": "https://localhost:8080/",
     "height": 151
    },
    "colab_type": "code",
    "id": "MuMNSGEmo8ug",
    "outputId": "dbcd6a54-2ff2-4184-da13-43f574c03486"
   },
   "outputs": [],
   "source": [
    "Y_kmeans ## Clusters have been created for on groupby dataframe of areacode and state."
   ]
  },
  {
   "cell_type": "code",
   "execution_count": null,
   "metadata": {
    "colab": {},
    "colab_type": "code",
    "id": "7fDyLI8_qITX"
   },
   "outputs": [],
   "source": [
    "df4=df2.groupby(['area code','state']).agg('count').reset_index() ## new dataframe stroing the same areacode and state groupby data."
   ]
  },
  {
   "cell_type": "code",
   "execution_count": null,
   "metadata": {
    "colab": {},
    "colab_type": "code",
    "id": "6s5xB2iUpsSJ"
   },
   "outputs": [],
   "source": [
    "df4['cluster']=Y_kmeans ## appending cluster column to the dataframe."
   ]
  },
  {
   "cell_type": "code",
   "execution_count": null,
   "metadata": {
    "colab": {},
    "colab_type": "code",
    "id": "aK-P7RIZp06Z"
   },
   "outputs": [],
   "source": [
    "df5=pd.merge(df2,df4,on=['area code','state']) ## Merging df2 and df4 on areacode and state would allot cluster to all the rows of df2 dataframe and stroing it as df5."
   ]
  },
  {
   "cell_type": "code",
   "execution_count": null,
   "metadata": {
    "colab": {},
    "colab_type": "code",
    "id": "dYD5AvTxqSIT"
   },
   "outputs": [],
   "source": [
    "df['cluster']=df5['cluster'] ## now appending cluster coulmn from df5 to original df."
   ]
  },
  {
   "cell_type": "code",
   "execution_count": null,
   "metadata": {
    "colab": {
     "base_uri": "https://localhost:8080/",
     "height": 565
    },
    "colab_type": "code",
    "id": "T1REvPLOqbOV",
    "outputId": "38678ca4-c471-4398-bc62-8c02c8dba4db"
   },
   "outputs": [],
   "source": [
    "df.sample(10)"
   ]
  },
  {
   "cell_type": "code",
   "execution_count": null,
   "metadata": {
    "colab": {},
    "colab_type": "code",
    "id": "Lhh-NW1Pqc_f"
   },
   "outputs": [],
   "source": []
  },
  {
   "cell_type": "code",
   "execution_count": null,
   "metadata": {
    "colab": {},
    "colab_type": "code",
    "id": "YS3seYDWIPwL"
   },
   "outputs": [],
   "source": []
  },
  {
   "cell_type": "markdown",
   "metadata": {
    "colab_type": "text",
    "id": "q8vReS5iwgtG"
   },
   "source": [
    "## PCA"
   ]
  },
  {
   "cell_type": "markdown",
   "metadata": {
    "colab_type": "text",
    "id": "VOezATfvqwW_"
   },
   "source": [
    "Applying Dimensionality reduction on all the numerical columns and creating two new components.\n",
    "Why dimesionality reduction??"
   ]
  },
  {
   "cell_type": "code",
   "execution_count": null,
   "metadata": {
    "colab": {},
    "colab_type": "code",
    "id": "9x6_F7b3t-IX"
   },
   "outputs": [],
   "source": [
    "pca_df=df[[ 'account length','number vmail messages',\n",
    "       'total day minutes', 'total day calls', 'total day charge',\n",
    "       'total eve minutes', 'total eve calls', 'total eve charge',\n",
    "       'total night minutes', 'total night calls', 'total night charge',\n",
    "       'total intl minutes', 'total intl calls', 'total intl charge',\n",
    "       'customer service calls']]"
   ]
  },
  {
   "cell_type": "code",
   "execution_count": null,
   "metadata": {
    "colab": {},
    "colab_type": "code",
    "id": "9YJQlBdrtTrl"
   },
   "outputs": [],
   "source": [
    "PCA_df=pd.DataFrame(scaler.fit_transform(pca_df))"
   ]
  },
  {
   "cell_type": "code",
   "execution_count": null,
   "metadata": {
    "colab": {},
    "colab_type": "code",
    "id": "dCmCF_P_sBE-"
   },
   "outputs": [],
   "source": [
    "from sklearn.decomposition import PCA\n",
    "pca = PCA(n_components=2)\n",
    "principalComponents = pca.fit_transform(PCA_df)\n",
    "principalDf = pd.DataFrame(data = principalComponents\n",
    "             , columns = ['principal component 1', 'principal component 2'])"
   ]
  },
  {
   "cell_type": "code",
   "execution_count": null,
   "metadata": {
    "colab": {
     "base_uri": "https://localhost:8080/",
     "height": 34
    },
    "colab_type": "code",
    "id": "Ve8vQp_ItA0L",
    "outputId": "4b6aa58b-7da4-4523-e2a3-8d5df6fbb9ba"
   },
   "outputs": [],
   "source": [
    "principalDf.shape"
   ]
  },
  {
   "cell_type": "code",
   "execution_count": null,
   "metadata": {
    "colab": {},
    "colab_type": "code",
    "id": "a7rkWZuZuobg"
   },
   "outputs": [],
   "source": []
  },
  {
   "cell_type": "code",
   "execution_count": null,
   "metadata": {
    "colab": {},
    "colab_type": "code",
    "id": "XoG2kk3J7FPi"
   },
   "outputs": [],
   "source": [
    "churn_df = pd.read_csv(\"churndata.csv\") ## reloading dataset as churn_df to append two pca components to churn and intl. plan and vmail plan columns."
   ]
  },
  {
   "cell_type": "code",
   "execution_count": null,
   "metadata": {
    "colab": {},
    "colab_type": "code",
    "id": "7mfK11wA7FUX"
   },
   "outputs": [],
   "source": [
    "churn_df.dropna(axis=0,how='all',inplace=True)"
   ]
  },
  {
   "cell_type": "code",
   "execution_count": null,
   "metadata": {
    "colab": {},
    "colab_type": "code",
    "id": "zTqbAvbI7Fe7"
   },
   "outputs": [],
   "source": [
    "churn_df = churn_df.reset_index()"
   ]
  },
  {
   "cell_type": "code",
   "execution_count": null,
   "metadata": {
    "colab": {},
    "colab_type": "code",
    "id": "gSF7O1Mi7FNW"
   },
   "outputs": [],
   "source": [
    "new_df=pd.DataFrame(principalDf)"
   ]
  },
  {
   "cell_type": "code",
   "execution_count": null,
   "metadata": {
    "colab": {},
    "colab_type": "code",
    "id": "zTUomu9g7FLn"
   },
   "outputs": [],
   "source": [
    "new_df['international plan']=churn_df['international plan']"
   ]
  },
  {
   "cell_type": "code",
   "execution_count": null,
   "metadata": {
    "colab": {},
    "colab_type": "code",
    "id": "-BnP6B4x7vvI"
   },
   "outputs": [],
   "source": [
    "new_df['voice mail plan']=churn_df['voice mail plan']"
   ]
  },
  {
   "cell_type": "code",
   "execution_count": null,
   "metadata": {
    "colab": {},
    "colab_type": "code",
    "id": "nfD-tNy179KV"
   },
   "outputs": [],
   "source": [
    "new_df['cluster']=df5['cluster'] ## appending cluster column to new_df dataframe"
   ]
  },
  {
   "cell_type": "code",
   "execution_count": null,
   "metadata": {
    "colab": {},
    "colab_type": "code",
    "id": "AcGRPs4x3SFC"
   },
   "outputs": [],
   "source": [
    "x=new_df[['international plan','voice mail plan','cluster','principal component 1',\t'principal component 2']]\n",
    "## creating new variable x for trainingg and tetsing"
   ]
  },
  {
   "cell_type": "code",
   "execution_count": null,
   "metadata": {
    "colab": {},
    "colab_type": "code",
    "id": "97oa4lSb8xZE"
   },
   "outputs": [],
   "source": [
    "x = pd.get_dummies(x,columns=['international plan','voice mail plan','cluster'],drop_first=True) \n",
    "## creating dummies would cover the categorical columns to numerical by assigning 0 and 1."
   ]
  },
  {
   "cell_type": "code",
   "execution_count": null,
   "metadata": {
    "colab": {
     "base_uri": "https://localhost:8080/",
     "height": 343
    },
    "colab_type": "code",
    "id": "HpaqLMCR8z-V",
    "outputId": "6e9610f2-4ef0-4fb8-b5b2-561efadf12e3"
   },
   "outputs": [],
   "source": [
    "x.sample(10)"
   ]
  },
  {
   "cell_type": "code",
   "execution_count": null,
   "metadata": {
    "colab": {},
    "colab_type": "code",
    "id": "u0giacx73lNk"
   },
   "outputs": [],
   "source": [
    "y=churn_df[['churn']]"
   ]
  },
  {
   "cell_type": "code",
   "execution_count": null,
   "metadata": {
    "colab": {},
    "colab_type": "code",
    "id": "tdx80yHm2zbh"
   },
   "outputs": [],
   "source": [
    "## Splitting X and Y dataframes into train, test sets using train_test_split\n",
    "x_train, x_test, y_train, y_test = train_test_split(x,y, test_size=0.30, random_state=42)"
   ]
  },
  {
   "cell_type": "code",
   "execution_count": null,
   "metadata": {
    "colab": {},
    "colab_type": "code",
    "id": "xTnwQNtD3Zj7"
   },
   "outputs": [],
   "source": []
  },
  {
   "cell_type": "markdown",
   "metadata": {
    "colab_type": "text",
    "id": "BtHoUZzUsPBx"
   },
   "source": [
    "## RnadomForest+PCA+Cluster"
   ]
  },
  {
   "cell_type": "code",
   "execution_count": null,
   "metadata": {
    "colab": {},
    "colab_type": "code",
    "id": "a2_UNaCG9dhN"
   },
   "outputs": [],
   "source": [
    "rfclf = RandomForestClassifier(n_estimators=100)"
   ]
  },
  {
   "cell_type": "code",
   "execution_count": null,
   "metadata": {
    "colab": {
     "base_uri": "https://localhost:8080/",
     "height": 218
    },
    "colab_type": "code",
    "id": "rsgDv_583L_t",
    "outputId": "fb0774ee-8570-49e8-be71-fbe04b79ebe2"
   },
   "outputs": [],
   "source": [
    "rfclf.fit(x_train,y_train)"
   ]
  },
  {
   "cell_type": "code",
   "execution_count": null,
   "metadata": {
    "colab": {},
    "colab_type": "code",
    "id": "47LqthEM5Ctl"
   },
   "outputs": [],
   "source": [
    "rfclf_Train_pred=rfclf.predict(x_train)"
   ]
  },
  {
   "cell_type": "code",
   "execution_count": null,
   "metadata": {
    "colab": {
     "base_uri": "https://localhost:8080/",
     "height": 168
    },
    "colab_type": "code",
    "id": "5fIrB7Yp5HMV",
    "outputId": "2f359358-e5de-4da8-f873-955d546d9ef0"
   },
   "outputs": [],
   "source": [
    "print(classification_report(y_train,rfclf_Train_pred))"
   ]
  },
  {
   "cell_type": "code",
   "execution_count": null,
   "metadata": {
    "colab": {},
    "colab_type": "code",
    "id": "vft6ZD-75K1V"
   },
   "outputs": [],
   "source": [
    "rfclf_Test_pred=rfclf.predict(x_test)"
   ]
  },
  {
   "cell_type": "code",
   "execution_count": null,
   "metadata": {
    "colab": {
     "base_uri": "https://localhost:8080/",
     "height": 168
    },
    "colab_type": "code",
    "id": "z0wWvuIK5RfS",
    "outputId": "280d5847-b6c3-410a-97b7-67b1ad339ba6"
   },
   "outputs": [],
   "source": [
    "print(classification_report(y_test,rfclf_Test_pred))"
   ]
  },
  {
   "cell_type": "markdown",
   "metadata": {
    "colab_type": "text",
    "id": "M1JfZuGWsQOc"
   },
   "source": [
    "Expected thsi to be the best model, but overfitting problem is seen in this scenario. Training model gives 100% accuarcy but testing gives 88-89% prediction accuracy.\n"
   ]
  },
  {
   "cell_type": "code",
   "execution_count": null,
   "metadata": {
    "colab": {},
    "colab_type": "code",
    "id": "aWoh8l5OHykr"
   },
   "outputs": [],
   "source": []
  },
  {
   "cell_type": "markdown",
   "metadata": {
    "colab_type": "text",
    "id": "-CsJtzYkskiO"
   },
   "source": [
    "As part of further analysis of my project I would like to work on reducing overfitting problem and apply Cross validation and Hyperparameter tuning of algorithms using Gridsearch techniques."
   ]
  },
  {
   "cell_type": "code",
   "execution_count": null,
   "metadata": {
    "colab": {},
    "colab_type": "code",
    "id": "YV3Icw_-tlGa"
   },
   "outputs": [],
   "source": [
    "from sklearn.decomposition import PCA\n",
    "pca = PCA(n_components=15)\n",
    "principalComponents = pca.fit_transform(PCA_df)\n",
    "principalDf = pd.DataFrame(data = principalComponents\n",
    "             , columns = ['principal component 1', 'principal component 2','principal component 3', 'principal component 4','principal component 5',\n",
    "                          'principal component 6', 'principal component 7','principal component 8', 'principal component 9','principal component 10',\n",
    "                          'principal component 11', 'principal component 12','principal component 13', 'principal component 14','principal component 15'])"
   ]
  }
 ],
 "metadata": {
  "colab": {
   "collapsed_sections": [],
   "name": "Copy of Laxmi_Final_project_606.ipynb",
   "provenance": []
  },
  "kernelspec": {
   "display_name": "Python 3",
   "language": "python",
   "name": "python3"
  },
  "language_info": {
   "codemirror_mode": {
    "name": "ipython",
    "version": 3
   },
   "file_extension": ".py",
   "mimetype": "text/x-python",
   "name": "python",
   "nbconvert_exporter": "python",
   "pygments_lexer": "ipython3",
   "version": "3.7.1"
  }
 },
 "nbformat": 4,
 "nbformat_minor": 1
}
